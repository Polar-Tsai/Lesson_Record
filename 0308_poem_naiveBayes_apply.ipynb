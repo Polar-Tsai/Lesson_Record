{
  "nbformat": 4,
  "nbformat_minor": 0,
  "metadata": {
    "colab": {
      "name": "0308_poem_naiveBayes_apply.ipynb",
      "provenance": [],
      "collapsed_sections": [],
      "authorship_tag": "ABX9TyPBSUONLFyzqd+7Up6BJLuv",
      "include_colab_link": true
    },
    "kernelspec": {
      "name": "python3",
      "display_name": "Python 3"
    }
  },
  "cells": [
    {
      "cell_type": "markdown",
      "metadata": {
        "id": "view-in-github",
        "colab_type": "text"
      },
      "source": [
        "<a href=\"https://colab.research.google.com/github/Polar-Tsai/Lesson_Record/blob/main/0308_poem_naiveBayes_apply.ipynb\" target=\"_parent\"><img src=\"https://colab.research.google.com/assets/colab-badge.svg\" alt=\"Open In Colab\"/></a>"
      ]
    },
    {
      "cell_type": "markdown",
      "metadata": {
        "id": "152HmzYAkr2j"
      },
      "source": [
        "# 單純貝氏\n",
        "\n",
        "當決策樹的欄位過多，即稱：「維度災難」\n",
        "1. 演算法不能用\n",
        "2. 資料量過少不足以用來分析欄位之間關係\n",
        "\n",
        "文字問題，使用「貝氏定理」\n",
        "\n",
        "字詞解釋: \n",
        "* P(A): A發生機率\n",
        "* P(A∩B) or P(A,B): A發生且B發生機率\n",
        "* 條件機率-- P(A|B) or P(A/B)\n",
        ">* B「確定發生」(條件固定)，A發生機率\n",
        "*　貝氏定理: P(A/B) = (P(A)*P(B/A))/P(B)\n",
        "\n",
        "### 範例\n",
        "> 欲測酒駕。測酒駕器具有95%準確，全台有酒駕者1%。求確定有酒駕機率?\n",
        "\n",
        "> Ans. P(喝/器具響)=0.016\n",
        ">* 結論: 其實很低...\n",
        "\n",
        "## 單純貝氏\n",
        "把非獨立假設為獨立，雖然這個假設是錯的，但因為在比大小情況下，大家錯的地方都一樣，依然有參考價值。\n",
        "可以解決「維度災難」\n"
      ]
    },
    {
      "cell_type": "code",
      "metadata": {
        "id": "5loW_kqujym1",
        "colab": {
          "base_uri": "https://localhost:8080/"
        },
        "outputId": "d71cbee0-231f-4cbe-cf11-6bc3b0b70e07"
      },
      "source": [
        "# 讀取詩詞csv檔\n",
        "# 在github找到老師的檔案所在後，點選【raw】右鍵【複製連結網址】\n",
        "\n",
        "from urllib.request import urlretrieve\n",
        "url = \"https://github.com/Elwing-Chou/ml0223/raw/main/poem_train.csv\"\n",
        "urlretrieve(url, \"train.csv\")\n",
        "url = \"https://github.com/Elwing-Chou/ml0223/raw/main/poem_test.csv\"\n",
        "urlretrieve(url, \"test.csv\")\n"
      ],
      "execution_count": null,
      "outputs": [
        {
          "output_type": "execute_result",
          "data": {
            "text/plain": [
              "('test.csv', <http.client.HTTPMessage at 0x7f01db69d690>)"
            ]
          },
          "metadata": {
            "tags": []
          },
          "execution_count": 1
        }
      ]
    },
    {
      "cell_type": "code",
      "metadata": {
        "id": "_Y7lMLhDpfVC"
      },
      "source": [
        "import pandas as pd\n",
        "train_df = pd.read_csv(\"train.csv\", encoding=\"utf-8\")\n",
        "test_df = pd.read_csv(\"test.csv\", encoding=\"utf-8\")"
      ],
      "execution_count": null,
      "outputs": []
    },
    {
      "cell_type": "code",
      "metadata": {
        "id": "7dAXOGgnqDcB",
        "colab": {
          "base_uri": "https://localhost:8080/"
        },
        "outputId": "52abdb89-538e-4f63-bd1a-2e85023fb08f"
      },
      "source": [
        "# 不載入大辭典，因嘗試過不見得好，故只用jieba分析\n",
        "# pd轉換技能\n",
        "# type(train_df)\n",
        "# type(train_df[\"作者\"]) # 拿出一行= series\n",
        "# 印的醜醜的是series\n",
        "# 印的漂漂的是df\n",
        "\n",
        "# 想要改欄名?\n",
        "# Series.replace({\"原本\":\"改成\"}) 但太麻煩，所以用以下方法\n",
        "# Series.unique/value_counts 這個多了解\n",
        "u = train_df[\"作者\"].unique()\n",
        "\n",
        "# 方法一\n",
        "# dic = {}\n",
        "# for i in range(len(u)):\n",
        "#   dic[d[i]] = i\n",
        "\n",
        "# 方法二: enumerate\n",
        "# 協助將作者的名字化成數字\n",
        "name2cat = {name:i for i, name in enumerate(u)}\n",
        "cat2name = {i:name for i, name in enumerate(u)} # 反向字典，將012轉成字典，類似尋找與取代的功能\n",
        "y_train = train_df[\"作者\"].replace(name2cat)\n",
        "y_test = test_df[\"作者\"].replace(name2cat)\n",
        "y_test\n",
        "y_train"
      ],
      "execution_count": null,
      "outputs": [
        {
          "output_type": "execute_result",
          "data": {
            "text/plain": [
              "0       0\n",
              "1       0\n",
              "2       0\n",
              "3       0\n",
              "4       0\n",
              "       ..\n",
              "2726    2\n",
              "2727    2\n",
              "2728    2\n",
              "2729    2\n",
              "2730    2\n",
              "Name: 作者, Length: 2731, dtype: int64"
            ]
          },
          "metadata": {
            "tags": []
          },
          "execution_count": 3
        }
      ]
    },
    {
      "cell_type": "code",
      "metadata": {
        "id": "dtbBEBR9xTt5"
      },
      "source": [
        "# a = int # int此類步驟可視為像「數字、字串、list...etc」，同理，也可將int設在變數a中\n",
        "# a(5.2) # 透過a變數進行應用\n",
        "# def test():\n",
        "#   return int\n",
        "# test()(5.3) # =int(5.3)，當最後面()加上去後，才正式執行；不加()，只是代表一個步驟"
      ],
      "execution_count": null,
      "outputs": []
    },
    {
      "cell_type": "code",
      "metadata": {
        "id": "YD_A60yoxTu4"
      },
      "source": [
        "# # apply\n",
        "# # Series.apply(func)\n",
        "# s = pd.Series([2,3,4])\n",
        "# def test(s):\n",
        "#   return s * s\n",
        "# s.apply(test) # 不需要帶入，這裡的意思即s中的數字被代入了"
      ],
      "execution_count": null,
      "outputs": []
    },
    {
      "cell_type": "code",
      "metadata": {
        "colab": {
          "base_uri": "https://localhost:8080/"
        },
        "id": "e0gWvjMH4vPo",
        "outputId": "82374cc0-2286-48bb-d6b6-f127e111e466"
      },
      "source": [
        "# apply正式應用\n",
        "import jieba\n",
        "def poemcut(p):\n",
        "    return \" \".join(jieba.cut(p))\n",
        "x_train = train_df[\"內容\"].apply(poemcut) # 還不用執行，所以先不加()\n",
        "x_test = test_df[\"內容\"].apply(poemcut)\n",
        "x_test"
      ],
      "execution_count": null,
      "outputs": [
        {
          "output_type": "stream",
          "text": [
            "Building prefix dict from the default dictionary ...\n",
            "Dumping model to file cache /tmp/jieba.cache\n",
            "Loading model cost 0.942 seconds.\n",
            "Prefix dict has been built successfully.\n"
          ],
          "name": "stderr"
        },
        {
          "output_type": "execute_result",
          "data": {
            "text/plain": [
              "0      日照 香爐生 紫煙 ， 遙看 瀑布 掛 前川 。 飛流 直下 三千尺 ， 疑是 銀河 落九天 。\n",
              "1     朝辭 白帝 彩雲間 ， 千裡 江陵 一日 還 。 兩岸 猿聲 啼 不住 ， 輕舟 已過 萬 ...\n",
              "2      李白 乘舟 將欲行 ， 忽聞 岸上 踏歌 聲 。 桃花潭水 深 千尺 ， 不及 汪倫送 我情 。\n",
              "3       故人 西辭黃鶴樓 ， 煙花 三月 下揚州 。 孤帆 遠影 碧空 儘 ， 唯見長 江天 際流 。\n",
              "4                 危樓 高 百尺 ， 手可摘 星辰 。 不敢 高聲語 ， 恐驚 天上 人 。\n",
              "5                  床前 明月光 ， 疑是 地上 霜 。 舉頭 望明月 ， 低頭思 故鄉 。\n",
              "6     天門 中斷 楚江 開 ， 碧水 東流 至此 回 。 兩岸 青山 相對 出 ， 孤帆 一片 日...\n",
              "7               眾鳥 高 飛 儘 ， 孤雲獨 去 閒 。 相看 兩不厭 ， 隻 有 敬亭山 。\n",
              "8     鳳凰 台上 鳳凰遊 ， 鳳去 台空江 自流 。 吳宮 花草 埋 幽徑 ， 晉代 衣冠 成古丘...\n",
              "9     渡遠 荊門外 ， 來 從 楚國遊 。 山 隨 平野 儘 ， 江入 大荒 流 。 月 下 飛天...\n",
              "10    百川 日東流 ， 客去 亦 不息 。 我 生苦 漂 蕩 ， 何時 有 終極 。 讚 公 釋 ...\n",
              "11    細泉 兼 輕冰 ， 沮洳 棧道 濕 。 不辭 辛苦 行 ， 迫此 短景急 。 石門 雪雲隘 ...\n",
              "12    首路 栗亭 西 ， 尚想 鳳凰村 。 季冬 攜 童稚 ， 辛苦 赴 蜀門 。 南登 木皮 嶺...\n",
              "13    落日 在 簾 鉤 ， 溪邊 春事幽 。 芳菲 緣岸 圃 ， 樵 爨 倚灘 舟 。 啅 雀 爭...\n",
              "14    竇侍 禦 ， 驥 之子 ， 鳳之雛 。 年 未 三十 忠義俱 ， 骨鯁 絕代 無 。 炯 如...\n",
              "15    百草 競春華 ， 麗春應 最勝 。 少須 好 顏色 ， 多漫枝條 剩 。 紛紛 桃李 枝 ，...\n",
              "16    何年 顧虎頭 ， 滿壁畫 瀛州 。 赤 日 石林 氣 ， 青天 江海 流 。 錫飛常 近鶴 ...\n",
              "17    野寺 隱喬木 ， 山僧 高下 居 。 石門 日色異 ， 絳 氣橫 扶疏 。 窈窕 入風 磴 ...\n",
              "18    西川 有 杜鵑 ， 東川 無 杜鵑 。 涪萬 無 杜鵑 ， 雲安有 杜鵑 。 我 昔遊錦城 ...\n",
              "19    小奴 縛雞 向 市 賣 ， 雞 被縛 急 相 喧爭 。 家中 厭雞 食蟲 蟻 ， 不知 雞賣...\n",
              "20    管妙 弦 清歌 入 雲 ， 老人 合眼 醉醺醺 。 誠知 不及 當年 聽 ， 猶覺 聞時 勝...\n",
              "21    追歡 逐樂少 閒時 ， 補帖 平生 得事遲 。 何處 花開 曾後看 ？ 誰家 酒熟 不 先知...\n",
              "22    歲 陰生計 兩 蹉跎 ， 相顧 悠悠 醉且 歌 。 廚冷 難留 烏止 屋 ， 門閒 可 與 ...\n",
              "23    雨 砌 長 寒蕪 ， 風庭 落秋果 。 窗間 有 閒叟 ， 儘 日 看 書 坐 。 書中見 ...\n",
              "24    睡足 肢體 暢 ， 晨起 開 中堂 。 初旭泛 簾幕 ， 微風 拂 衣裳 。 二婢 扶 盥櫛...\n",
              "25    履道 西門 有 弊居 ， 池塘 竹樹繞 君廬 。 豪華肥壯 雖無分 ， 飽暖安閒 即 有 餘...\n",
              "26    昨日 複 今辰 ， 悠悠 七十 春 。 所經 多 故處 ， 卻 想 似 前身 。 散 秩優遊...\n",
              "27    不 與 老為期 ， 因何 兩鬢絲 ？ 才 應免 夭促 ， 便 已 及 衰 羸 。 昨夜 夢 ...\n",
              "28    暖床 斜 臥日 曛 腰 ， 一覺 閒眠 百病 銷 。 儘 日 一 飧 茶 兩 碗 ， 更無所...\n",
              "29    選石 鋪 新路 ， 安橋 壓古堤 。 似 從 銀漢下 ， 落傍玉 川西 。 影定 欄杆 倒 ...\n",
              "Name: 內容, dtype: object"
            ]
          },
          "metadata": {
            "tags": []
          },
          "execution_count": 4
        }
      ]
    },
    {
      "cell_type": "code",
      "metadata": {
        "id": "ZrdZMTQ86GJI"
      },
      "source": [
        "# minmaxscaler是fit/transform形式 \n",
        "# fit:學會min=0，max=100，目的:找出趨勢、找出有幾個欄位\n",
        "# transform:把(所有點-min)/(max-min)，目的:進行表格內數數的任務\n",
        "# 注意: 訓練資料fit+transform；測試資料只做transform"
      ],
      "execution_count": null,
      "outputs": []
    },
    {
      "cell_type": "code",
      "metadata": {
        "id": "i98FLUP071C3"
      },
      "source": [
        "# CountVectorizer協助數次數\n",
        "from sklearn.feature_extraction.text import CountVectorizer\n",
        "vec = CountVectorizer()\n",
        "x_train_count = vec.fit_transform(x_train) # 同時vec & fit\n",
        "x_test_count = vec.transform(x_test)"
      ],
      "execution_count": null,
      "outputs": []
    },
    {
      "cell_type": "code",
      "metadata": {
        "colab": {
          "base_uri": "https://localhost:8080/"
        },
        "id": "ZVGHUjvm8wA_",
        "outputId": "c0ba5925-a862-472a-e8d1-3580b4b41935"
      },
      "source": [
        "vec.vocabulary_ # 可以觀察欄位代表什麼\n",
        "x_train_count\n",
        "# sparse matrix稀疏矩陣: 適合用於龐大資料...，免於讓ram過勞\n",
        "# vec.vocabulary_[\"，\"] # keyerror: 代表已經被去除"
      ],
      "execution_count": null,
      "outputs": [
        {
          "output_type": "execute_result",
          "data": {
            "text/plain": [
              "<2731x52294 sparse matrix of type '<class 'numpy.int64'>'\n",
              "\twith 85677 stored elements in Compressed Sparse Row format>"
            ]
          },
          "metadata": {
            "tags": []
          },
          "execution_count": 7
        }
      ]
    },
    {
      "cell_type": "markdown",
      "metadata": {
        "id": "Nbt14FjckpfM"
      },
      "source": [
        "Q. 有詞太常見，是不是該去除?\n",
        "\n",
        "A. 不用，如果詞彙是大家都會使用，頻率一樣，那也不影響；\n",
        ">* 如果頻率不同，就代表他有他的意義。\n",
        ">* 所以常用詞不需要去除!!!\n",
        "\n",
        "\n",
        "---\n",
        "\n",
        "\n",
        "[naive bayes](https://scikit-learn.org/stable/modules/naive_bayes.html)\n",
        "#### multinomial naive bayes多項式單純貝氏"
      ]
    },
    {
      "cell_type": "code",
      "metadata": {
        "colab": {
          "base_uri": "https://localhost:8080/"
        },
        "id": "069g4QXsY50A",
        "outputId": "ed20d678-40dc-472a-9731-2e3d09465ebf"
      },
      "source": [
        "from sklearn.naive_bayes import MultinomialNB\n",
        "clf = MultinomialNB(alpha=0.01)\n",
        "clf.fit(x_train_count, y_train)\n",
        "# alpha = (Nyi+a)/(Ny+a*n)\n",
        "# Ny: 總用詞數\n",
        "# Nyi: 特定詞詞數\n",
        "# n: 欄位數\n",
        "# a: 保底值，須注意不可給太大的值，通常0.01 or 0.001\n",
        "# 為了避開機率為0or100(統計的大忌)，利用Smoothing，加保底值來避免\n",
        "# 同時也須留意alpha不可太大，以免失真"
      ],
      "execution_count": null,
      "outputs": [
        {
          "output_type": "execute_result",
          "data": {
            "text/plain": [
              "MultinomialNB(alpha=0.01, class_prior=None, fit_prior=True)"
            ]
          },
          "metadata": {
            "tags": []
          },
          "execution_count": 8
        }
      ]
    },
    {
      "cell_type": "code",
      "metadata": {
        "colab": {
          "base_uri": "https://localhost:8080/"
        },
        "id": "cqSHy8U-abKv",
        "outputId": "92a00e3d-e01e-4c2e-9a08-7414860c3612"
      },
      "source": [
        "from sklearn.metrics import accuracy_score, log_loss\n",
        "\n",
        "pre = clf.predict(x_test_count)\n",
        "print(accuracy_score(y_test, pre))\n",
        "prob = clf.predict_proba(x_test_count)\n",
        "print(log_loss(y_test, prob))\n"
      ],
      "execution_count": null,
      "outputs": [
        {
          "output_type": "stream",
          "text": [
            "0.8333333333333334\n",
            "1.1017983421769055\n"
          ],
          "name": "stdout"
        }
      ]
    },
    {
      "cell_type": "markdown",
      "metadata": {
        "id": "d3vLiZTif2Hu"
      },
      "source": [
        "### confusion_matrix 混淆矩陣\n",
        "#### 用以評估準確性"
      ]
    },
    {
      "cell_type": "code",
      "metadata": {
        "colab": {
          "base_uri": "https://localhost:8080/",
          "height": 142
        },
        "id": "KCP5AR-7f7-L",
        "outputId": "27e8aa25-339c-4687-ceb0-2bf030181adc"
      },
      "source": [
        "from sklearn.metrics import confusion_matrix\n",
        "mat = confusion_matrix(y_test, pre)\n",
        "pd.DataFrame(mat,\n",
        "      index=[name + \"(原本)\" for name in u],\n",
        "      columns=[name + \"(預測)\" for name in u])"
      ],
      "execution_count": null,
      "outputs": [
        {
          "output_type": "execute_result",
          "data": {
            "text/html": [
              "<div>\n",
              "<style scoped>\n",
              "    .dataframe tbody tr th:only-of-type {\n",
              "        vertical-align: middle;\n",
              "    }\n",
              "\n",
              "    .dataframe tbody tr th {\n",
              "        vertical-align: top;\n",
              "    }\n",
              "\n",
              "    .dataframe thead th {\n",
              "        text-align: right;\n",
              "    }\n",
              "</style>\n",
              "<table border=\"1\" class=\"dataframe\">\n",
              "  <thead>\n",
              "    <tr style=\"text-align: right;\">\n",
              "      <th></th>\n",
              "      <th>李白(預測)</th>\n",
              "      <th>杜甫(預測)</th>\n",
              "      <th>白居易(預測)</th>\n",
              "    </tr>\n",
              "  </thead>\n",
              "  <tbody>\n",
              "    <tr>\n",
              "      <th>李白(原本)</th>\n",
              "      <td>8</td>\n",
              "      <td>1</td>\n",
              "      <td>1</td>\n",
              "    </tr>\n",
              "    <tr>\n",
              "      <th>杜甫(原本)</th>\n",
              "      <td>0</td>\n",
              "      <td>9</td>\n",
              "      <td>1</td>\n",
              "    </tr>\n",
              "    <tr>\n",
              "      <th>白居易(原本)</th>\n",
              "      <td>1</td>\n",
              "      <td>1</td>\n",
              "      <td>8</td>\n",
              "    </tr>\n",
              "  </tbody>\n",
              "</table>\n",
              "</div>"
            ],
            "text/plain": [
              "         李白(預測)  杜甫(預測)  白居易(預測)\n",
              "李白(原本)        8       1        1\n",
              "杜甫(原本)        0       9        1\n",
              "白居易(原本)       1       1        8"
            ]
          },
          "metadata": {
            "tags": []
          },
          "execution_count": 14
        }
      ]
    },
    {
      "cell_type": "code",
      "metadata": {
        "id": "-6hZ8hwEhGhu",
        "colab": {
          "base_uri": "https://localhost:8080/"
        },
        "outputId": "8f42e900-7d1d-4518-a1e2-44451b180924"
      },
      "source": [
        "# 隨抓網路上詩詞比對\n",
        "p = input(\"write:\")\n",
        "test = vec.transform([poemcut(p)])\n",
        "prob = clf.predict_proba(test)[0] # 預測機率/[0]第一批\n",
        "for i in range(len(u)):\n",
        "  print(u[i], \"的機率:\", round(prob[i], 3))"
      ],
      "execution_count": null,
      "outputs": [
        {
          "output_type": "stream",
          "text": [
            "write:雨落在屏東的甘蔗田裏，  甜甜的甘蔗甜甜的雨，  肥肥的甘蔗肥肥的田，  雨落在屏東肥肥的田裏。  從此地到山麓，  一大幅平原舉起  多少甘蔗，多少甘美的希冀！  長途車駛過青青的平原，  檢閱牧神青青的儀隊。  想牧神，多毛又多鬚，  在那一株甘蔗下午睡？     雨落在屏東的西瓜田裏，  甜甜的西瓜甜甜的雨，  肥肥的西瓜肥肥的田，  雨落在屏東肥肥的田裏。  從此地到海岸，  一大張河床孵出  多少西瓜，多少圓渾的希望！  長途車駛過纍纍的河床，  檢閱牧神纍纍的寶庫。  想牧神，多血又多子，  究竟坐在那一隻瓜上？     雨落在屏東的香蕉田裏，  甜甜的香蕉甜甜的雨，  肥肥的香蕉肥肥的田，     雨落在屏東肥肥的田裏。  雨是一首溼溼的牧歌，  路是一把瘦瘦的牧笛，  吹十里五里的阡阡陌陌。  雨落在屏東的香蕉田裏，  胖胖的香蕉肥肥的雨，  長途車駛不出牧神的轄區，  路是一把長長的牧笛。     正說屏東是最甜的縣，  屏東是方糖砌成的城，  忽然一個右轉，最鹹最鹹，  劈面撲過來那海。\n",
            "李白 的機率: 1.0\n",
            "杜甫 的機率: 0.0\n",
            "白居易 的機率: 0.0\n"
          ],
          "name": "stdout"
        }
      ]
    }
  ]
}